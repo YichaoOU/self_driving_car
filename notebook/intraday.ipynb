{
 "cells": [
  {
   "cell_type": "code",
   "execution_count": 12,
   "metadata": {},
   "outputs": [
    {
     "data": {
      "text/html": [
       "<div>\n",
       "<style>\n",
       "    .dataframe thead tr:only-child th {\n",
       "        text-align: right;\n",
       "    }\n",
       "\n",
       "    .dataframe thead th {\n",
       "        text-align: left;\n",
       "    }\n",
       "\n",
       "    .dataframe tbody tr th {\n",
       "        vertical-align: top;\n",
       "    }\n",
       "</style>\n",
       "<table border=\"1\" class=\"dataframe\">\n",
       "  <thead>\n",
       "    <tr style=\"text-align: right;\">\n",
       "      <th></th>\n",
       "      <th>a</th>\n",
       "      <th>Open</th>\n",
       "      <th>High</th>\n",
       "      <th>Low</th>\n",
       "      <th>Close</th>\n",
       "      <th>Vol</th>\n",
       "    </tr>\n",
       "  </thead>\n",
       "  <tbody>\n",
       "    <tr>\n",
       "      <th>2017-09-11 16:07:00</th>\n",
       "      <td>7</td>\n",
       "      <td>158.67</td>\n",
       "      <td>160.5</td>\n",
       "      <td>157.995</td>\n",
       "      <td>160.11</td>\n",
       "      <td>28269435</td>\n",
       "    </tr>\n",
       "    <tr>\n",
       "      <th>2017-09-11 16:08:00</th>\n",
       "      <td>8</td>\n",
       "      <td>158.73</td>\n",
       "      <td>159.77</td>\n",
       "      <td>158.44</td>\n",
       "      <td>159.51</td>\n",
       "      <td>20810632</td>\n",
       "    </tr>\n",
       "    <tr>\n",
       "      <th>2017-09-11 16:09:00</th>\n",
       "      <td>9</td>\n",
       "      <td>156.07</td>\n",
       "      <td>158.26</td>\n",
       "      <td>153.83</td>\n",
       "      <td>157.9</td>\n",
       "      <td>52951364</td>\n",
       "    </tr>\n",
       "    <tr>\n",
       "      <th>2017-09-11 16:10:00</th>\n",
       "      <td>10</td>\n",
       "      <td>153.39</td>\n",
       "      <td>155.8</td>\n",
       "      <td>152.75</td>\n",
       "      <td>155.8</td>\n",
       "      <td>37511661</td>\n",
       "    </tr>\n",
       "    <tr>\n",
       "      <th>2017-09-11 16:11:00</th>\n",
       "      <td>11</td>\n",
       "      <td>151.89</td>\n",
       "      <td>152.27</td>\n",
       "      <td>150.56</td>\n",
       "      <td>151.537</td>\n",
       "      <td>46645443</td>\n",
       "    </tr>\n",
       "  </tbody>\n",
       "</table>\n",
       "</div>"
      ],
      "text/plain": [
       "                      a    Open    High      Low    Close       Vol\n",
       "2017-09-11 16:07:00   7  158.67   160.5  157.995   160.11  28269435\n",
       "2017-09-11 16:08:00   8  158.73  159.77   158.44   159.51  20810632\n",
       "2017-09-11 16:09:00   9  156.07  158.26   153.83    157.9  52951364\n",
       "2017-09-11 16:10:00  10  153.39   155.8   152.75    155.8  37511661\n",
       "2017-09-11 16:11:00  11  151.89  152.27   150.56  151.537  46645443"
      ]
     },
     "execution_count": 12,
     "metadata": {},
     "output_type": "execute_result"
    }
   ],
   "source": [
    "#add a timestamp to the intraday AAPL data\n",
    "import pandas as pd, numpy as np, datetime\n",
    "x=np.array(pd.read_csv(\"http://www.google.com/finance/getprices?q=AAPL&i=300&p=10d&f=d,o,h,l,c,v\",skiprows=7,header=None))\n",
    "date=[]\n",
    "for i in range(0,len(x)):\n",
    "    if x[i][0][0]=='a':\n",
    "       t= datetime.datetime.fromtimestamp(int(x[i][0].replace('a','')))\n",
    "       date.append(t)\n",
    "    else:\n",
    "       date.append(t+datetime.timedelta(minutes =int(x[i][0])))\n",
    "data1=pd.DataFrame(x,index=date)\n",
    "data1.columns=['a','Open','High','Low','Close','Vol']\n",
    "data1.head()\n",
    "data1.tail()"
   ]
  },
  {
   "cell_type": "code",
   "execution_count": 8,
   "metadata": {},
   "outputs": [
    {
     "name": "stdout",
     "output_type": "stream",
     "text": [
      "http://www.google.com/finance/getprices?i=300&amp;amp;p=10d&amp;amp;f=d,o,h,l,c,v&amp;amp;df=cpct&amp;amp;q=SPY\n"
     ]
    },
    {
     "ename": "UnboundLocalError",
     "evalue": "local variable 'cdata' referenced before assignment",
     "output_type": "error",
     "traceback": [
      "\u001b[1;31m---------------------------------------------------------------------------\u001b[0m",
      "\u001b[1;31mUnboundLocalError\u001b[0m                         Traceback (most recent call last)",
      "\u001b[1;32m<ipython-input-8-ff114dd6558d>\u001b[0m in \u001b[0;36m<module>\u001b[1;34m()\u001b[0m\n\u001b[1;32m----> 1\u001b[1;33m \u001b[0mspy\u001b[0m \u001b[1;33m=\u001b[0m \u001b[0mget_google_data\u001b[0m\u001b[1;33m(\u001b[0m\u001b[1;34m'SPY'\u001b[0m\u001b[1;33m,\u001b[0m \u001b[1;36m300\u001b[0m\u001b[1;33m,\u001b[0m \u001b[1;36m10\u001b[0m\u001b[1;33m)\u001b[0m\u001b[1;33m\u001b[0m\u001b[0m\n\u001b[0m",
      "\u001b[1;32m<ipython-input-7-7273b6c0b9c6>\u001b[0m in \u001b[0;36mget_google_data\u001b[1;34m(symbol, period, window)\u001b[0m\n\u001b[0;32m     17\u001b[0m  \u001b[1;32mfor\u001b[0m \u001b[0mi\u001b[0m \u001b[1;32min\u001b[0m \u001b[0mrange\u001b[0m\u001b[1;33m(\u001b[0m\u001b[1;36m7\u001b[0m\u001b[1;33m,\u001b[0m \u001b[0mend\u001b[0m\u001b[1;33m)\u001b[0m\u001b[1;33m:\u001b[0m\u001b[1;33m\u001b[0m\u001b[0m\n\u001b[0;32m     18\u001b[0m   \u001b[0mcdata\u001b[0m \u001b[1;33m=\u001b[0m \u001b[0mdata\u001b[0m\u001b[1;33m[\u001b[0m\u001b[0mi\u001b[0m\u001b[1;33m]\u001b[0m\u001b[1;33m.\u001b[0m\u001b[0msplit\u001b[0m\u001b[1;33m(\u001b[0m\u001b[1;34m','\u001b[0m\u001b[1;33m)\u001b[0m\u001b[1;33m\u001b[0m\u001b[0m\n\u001b[1;32m---> 19\u001b[1;33m  \u001b[1;32mif\u001b[0m \u001b[1;34m'a'\u001b[0m \u001b[1;32min\u001b[0m \u001b[0mcdata\u001b[0m\u001b[1;33m[\u001b[0m\u001b[1;36m0\u001b[0m\u001b[1;33m]\u001b[0m\u001b[1;33m:\u001b[0m\u001b[1;33m\u001b[0m\u001b[0m\n\u001b[0m\u001b[0;32m     20\u001b[0m   \u001b[0manchor_stamp\u001b[0m \u001b[1;33m=\u001b[0m \u001b[0mcdata\u001b[0m\u001b[1;33m[\u001b[0m\u001b[1;36m0\u001b[0m\u001b[1;33m]\u001b[0m\u001b[1;33m.\u001b[0m\u001b[0mreplace\u001b[0m\u001b[1;33m(\u001b[0m\u001b[1;34m'a'\u001b[0m\u001b[1;33m,\u001b[0m \u001b[1;34m''\u001b[0m\u001b[1;33m)\u001b[0m\u001b[1;33m\u001b[0m\u001b[0m\n\u001b[0;32m     21\u001b[0m   \u001b[0mcts\u001b[0m \u001b[1;33m=\u001b[0m \u001b[0mint\u001b[0m\u001b[1;33m(\u001b[0m\u001b[0manchor_stamp\u001b[0m\u001b[1;33m)\u001b[0m\u001b[1;33m\u001b[0m\u001b[0m\n",
      "\u001b[1;31mUnboundLocalError\u001b[0m: local variable 'cdata' referenced before assignment"
     ]
    }
   ],
   "source": [
    "spy = get_google_data('SPY', 300, 10)"
   ]
  }
 ],
 "metadata": {
  "kernelspec": {
   "display_name": "Python 2",
   "language": "python",
   "name": "python2"
  },
  "language_info": {
   "codemirror_mode": {
    "name": "ipython",
    "version": 2
   },
   "file_extension": ".py",
   "mimetype": "text/x-python",
   "name": "python",
   "nbconvert_exporter": "python",
   "pygments_lexer": "ipython2",
   "version": "2.7.13"
  }
 },
 "nbformat": 4,
 "nbformat_minor": 2
}
